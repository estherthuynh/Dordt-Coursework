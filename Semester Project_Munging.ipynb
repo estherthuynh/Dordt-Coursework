{
 "cells": [
  {
   "cell_type": "code",
   "execution_count": 46,
   "id": "8b16bf68",
   "metadata": {},
   "outputs": [],
   "source": [
    "import requests\n",
    "from bs4 import BeautifulSoup\n",
    "import pandas as pd"
   ]
  },
  {
   "cell_type": "code",
   "execution_count": 47,
   "id": "9d240c7d",
   "metadata": {},
   "outputs": [],
   "source": [
    "url = 'https://www.nifc.gov/fire-information/statistics'\n",
    "page = requests.get(url)\n",
    "content = page.content\n",
    "soup = BeautifulSoup(page.text, 'lxml')"
   ]
  },
  {
   "cell_type": "code",
   "execution_count": 52,
   "id": "9cf687be",
   "metadata": {},
   "outputs": [
    {
     "ename": "SyntaxError",
     "evalue": "invalid syntax (1431656208.py, line 8)",
     "output_type": "error",
     "traceback": [
      "\u001b[1;36m  File \u001b[1;32m\"C:\\Users\\Esther Huynh\\AppData\\Local\\Temp\\ipykernel_36360\\1431656208.py\"\u001b[1;36m, line \u001b[1;32m8\u001b[0m\n\u001b[1;33m    link_of_pdf.remove(<a class=\"sf-depth-2 sf-external menuparent\" href=\"https://www.nifc.gov/nicc/sitreprt.pdf\" title=\"IMSR\">Situation Report </a>)\u001b[0m\n\u001b[1;37m                       ^\u001b[0m\n\u001b[1;31mSyntaxError\u001b[0m\u001b[1;31m:\u001b[0m invalid syntax\n"
     ]
    }
   ],
   "source": [
    "link_of_pdf = []\n",
    "links = soup.find_all('a')\n",
    "for link in links:\n",
    "    if('.pdf' in link.get('href', [])):\n",
    "        print(link, \"\\n\")\n",
    "        link_of_pdf.append(link)\n"
   ]
  },
  {
   "cell_type": "code",
   "execution_count": 49,
   "id": "4ada35ea",
   "metadata": {},
   "outputs": [
    {
     "name": "stdout",
     "output_type": "stream",
     "text": [
      "set()\n"
     ]
    }
   ],
   "source": []
  }
 ],
 "metadata": {
  "kernelspec": {
   "display_name": "Python 3 (ipykernel)",
   "language": "python",
   "name": "python3"
  },
  "language_info": {
   "codemirror_mode": {
    "name": "ipython",
    "version": 3
   },
   "file_extension": ".py",
   "mimetype": "text/x-python",
   "name": "python",
   "nbconvert_exporter": "python",
   "pygments_lexer": "ipython3",
   "version": "3.9.13"
  }
 },
 "nbformat": 4,
 "nbformat_minor": 5
}
