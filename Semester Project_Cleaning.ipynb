{
 "cells": [
  {
   "cell_type": "code",
   "execution_count": 41,
   "id": "1fd13e5b",
   "metadata": {},
   "outputs": [],
   "source": [
    "import numpy as np\n",
    "import pandas as pd"
   ]
  },
  {
   "cell_type": "code",
   "execution_count": 42,
   "id": "785a3bfa",
   "metadata": {},
   "outputs": [],
   "source": [
    "fires = pd.read_csv(\"fires.csv\")"
   ]
  },
  {
   "cell_type": "code",
   "execution_count": 43,
   "id": "1e8a81d2",
   "metadata": {},
   "outputs": [
    {
     "data": {
      "text/html": [
       "<div>\n",
       "<style scoped>\n",
       "    .dataframe tbody tr th:only-of-type {\n",
       "        vertical-align: middle;\n",
       "    }\n",
       "\n",
       "    .dataframe tbody tr th {\n",
       "        vertical-align: top;\n",
       "    }\n",
       "\n",
       "    .dataframe thead th {\n",
       "        text-align: right;\n",
       "    }\n",
       "</style>\n",
       "<table border=\"1\" class=\"dataframe\">\n",
       "  <thead>\n",
       "    <tr style=\"text-align: right;\">\n",
       "      <th></th>\n",
       "      <th>Year</th>\n",
       "      <th>Agency</th>\n",
       "      <th>Wild_Fires</th>\n",
       "      <th>Wild_Acres</th>\n",
       "      <th>Rx_Fires</th>\n",
       "      <th>Rx_Acres</th>\n",
       "      <th>WFU_Fires</th>\n",
       "      <th>WFU_Acres</th>\n",
       "    </tr>\n",
       "  </thead>\n",
       "  <tbody>\n",
       "    <tr>\n",
       "      <th>0</th>\n",
       "      <td>2002.0</td>\n",
       "      <td>BIA</td>\n",
       "      <td>318</td>\n",
       "      <td>11014</td>\n",
       "      <td>13</td>\n",
       "      <td>272</td>\n",
       "      <td>0.0</td>\n",
       "      <td>0</td>\n",
       "    </tr>\n",
       "    <tr>\n",
       "      <th>1</th>\n",
       "      <td>NaN</td>\n",
       "      <td>BLM</td>\n",
       "      <td>118</td>\n",
       "      <td>32767</td>\n",
       "      <td>19</td>\n",
       "      <td>1546</td>\n",
       "      <td>0.0</td>\n",
       "      <td>0</td>\n",
       "    </tr>\n",
       "    <tr>\n",
       "      <th>2</th>\n",
       "      <td>NaN</td>\n",
       "      <td>FWS</td>\n",
       "      <td>26</td>\n",
       "      <td>956</td>\n",
       "      <td>23</td>\n",
       "      <td>24684</td>\n",
       "      <td>0.0</td>\n",
       "      <td>0</td>\n",
       "    </tr>\n",
       "    <tr>\n",
       "      <th>3</th>\n",
       "      <td>NaN</td>\n",
       "      <td>NPS</td>\n",
       "      <td>55</td>\n",
       "      <td>923</td>\n",
       "      <td>47</td>\n",
       "      <td>6938</td>\n",
       "      <td>86.0</td>\n",
       "      <td>4,137</td>\n",
       "    </tr>\n",
       "    <tr>\n",
       "      <th>4</th>\n",
       "      <td>NaN</td>\n",
       "      <td>ST</td>\n",
       "      <td>6201</td>\n",
       "      <td>95091</td>\n",
       "      <td>0</td>\n",
       "      <td>0</td>\n",
       "      <td>0.0</td>\n",
       "      <td>0</td>\n",
       "    </tr>\n",
       "  </tbody>\n",
       "</table>\n",
       "</div>"
      ],
      "text/plain": [
       "     Year Agency  Wild_Fires  Wild_Acres  Rx_Fires  Rx_Acres  WFU_Fires  \\\n",
       "0  2002.0    BIA         318       11014        13       272        0.0   \n",
       "1     NaN    BLM         118       32767        19      1546        0.0   \n",
       "2     NaN    FWS          26         956        23     24684        0.0   \n",
       "3     NaN    NPS          55         923        47      6938       86.0   \n",
       "4     NaN     ST        6201       95091         0         0        0.0   \n",
       "\n",
       "  WFU_Acres  \n",
       "0         0  \n",
       "1         0  \n",
       "2         0  \n",
       "3     4,137  \n",
       "4         0  "
      ]
     },
     "execution_count": 43,
     "metadata": {},
     "output_type": "execute_result"
    }
   ],
   "source": [
    "fires.head()"
   ]
  },
  {
   "cell_type": "code",
   "execution_count": 44,
   "id": "6a18a654",
   "metadata": {},
   "outputs": [
    {
     "data": {
      "text/plain": [
       "Year          108\n",
       "Agency          0\n",
       "Wild_Fires      0\n",
       "Wild_Acres      0\n",
       "Rx_Fires        0\n",
       "Rx_Acres        0\n",
       "WFU_Fires      75\n",
       "WFU_Acres      75\n",
       "dtype: int64"
      ]
     },
     "execution_count": 44,
     "metadata": {},
     "output_type": "execute_result"
    }
   ],
   "source": [
    "fires.isnull().sum()"
   ]
  },
  {
   "cell_type": "code",
   "execution_count": 45,
   "id": "0851f2f7",
   "metadata": {},
   "outputs": [],
   "source": [
    "fires['Year'] = fires['Year'].ffill()"
   ]
  },
  {
   "cell_type": "code",
   "execution_count": 46,
   "id": "c36bbac4",
   "metadata": {},
   "outputs": [
    {
     "data": {
      "text/plain": [
       "0"
      ]
     },
     "execution_count": 46,
     "metadata": {},
     "output_type": "execute_result"
    }
   ],
   "source": [
    "fires['Year'].isnull().sum()"
   ]
  },
  {
   "cell_type": "code",
   "execution_count": 47,
   "id": "bce9d5ef",
   "metadata": {},
   "outputs": [],
   "source": [
    "fires['Year'] = fires['Year'].astype(int)"
   ]
  },
  {
   "cell_type": "code",
   "execution_count": 48,
   "id": "eab46939",
   "metadata": {},
   "outputs": [
    {
     "data": {
      "text/html": [
       "<div>\n",
       "<style scoped>\n",
       "    .dataframe tbody tr th:only-of-type {\n",
       "        vertical-align: middle;\n",
       "    }\n",
       "\n",
       "    .dataframe tbody tr th {\n",
       "        vertical-align: top;\n",
       "    }\n",
       "\n",
       "    .dataframe thead th {\n",
       "        text-align: right;\n",
       "    }\n",
       "</style>\n",
       "<table border=\"1\" class=\"dataframe\">\n",
       "  <thead>\n",
       "    <tr style=\"text-align: right;\">\n",
       "      <th></th>\n",
       "      <th>Year</th>\n",
       "      <th>Agency</th>\n",
       "      <th>Wild_Fires</th>\n",
       "      <th>Wild_Acres</th>\n",
       "      <th>Rx_Fires</th>\n",
       "      <th>Rx_Acres</th>\n",
       "      <th>WFU_Fires</th>\n",
       "      <th>WFU_Acres</th>\n",
       "    </tr>\n",
       "  </thead>\n",
       "  <tbody>\n",
       "    <tr>\n",
       "      <th>0</th>\n",
       "      <td>2002</td>\n",
       "      <td>BIA</td>\n",
       "      <td>318</td>\n",
       "      <td>11014</td>\n",
       "      <td>13</td>\n",
       "      <td>272</td>\n",
       "      <td>0.0</td>\n",
       "      <td>0</td>\n",
       "    </tr>\n",
       "    <tr>\n",
       "      <th>1</th>\n",
       "      <td>2002</td>\n",
       "      <td>BLM</td>\n",
       "      <td>118</td>\n",
       "      <td>32767</td>\n",
       "      <td>19</td>\n",
       "      <td>1546</td>\n",
       "      <td>0.0</td>\n",
       "      <td>0</td>\n",
       "    </tr>\n",
       "    <tr>\n",
       "      <th>2</th>\n",
       "      <td>2002</td>\n",
       "      <td>FWS</td>\n",
       "      <td>26</td>\n",
       "      <td>956</td>\n",
       "      <td>23</td>\n",
       "      <td>24684</td>\n",
       "      <td>0.0</td>\n",
       "      <td>0</td>\n",
       "    </tr>\n",
       "    <tr>\n",
       "      <th>3</th>\n",
       "      <td>2002</td>\n",
       "      <td>NPS</td>\n",
       "      <td>55</td>\n",
       "      <td>923</td>\n",
       "      <td>47</td>\n",
       "      <td>6938</td>\n",
       "      <td>86.0</td>\n",
       "      <td>4,137</td>\n",
       "    </tr>\n",
       "    <tr>\n",
       "      <th>4</th>\n",
       "      <td>2002</td>\n",
       "      <td>ST</td>\n",
       "      <td>6201</td>\n",
       "      <td>95091</td>\n",
       "      <td>0</td>\n",
       "      <td>0</td>\n",
       "      <td>0.0</td>\n",
       "      <td>0</td>\n",
       "    </tr>\n",
       "    <tr>\n",
       "      <th>5</th>\n",
       "      <td>2002</td>\n",
       "      <td>FS</td>\n",
       "      <td>1610</td>\n",
       "      <td>365945</td>\n",
       "      <td>565</td>\n",
       "      <td>54922</td>\n",
       "      <td>195.0</td>\n",
       "      <td>1</td>\n",
       "    </tr>\n",
       "    <tr>\n",
       "      <th>6</th>\n",
       "      <td>2003</td>\n",
       "      <td>BIA</td>\n",
       "      <td>253</td>\n",
       "      <td>1911</td>\n",
       "      <td>14</td>\n",
       "      <td>188</td>\n",
       "      <td>2.0</td>\n",
       "      <td>0</td>\n",
       "    </tr>\n",
       "    <tr>\n",
       "      <th>7</th>\n",
       "      <td>2003</td>\n",
       "      <td>BLM</td>\n",
       "      <td>231</td>\n",
       "      <td>54869</td>\n",
       "      <td>33</td>\n",
       "      <td>1183</td>\n",
       "      <td>0.0</td>\n",
       "      <td>0</td>\n",
       "    </tr>\n",
       "    <tr>\n",
       "      <th>8</th>\n",
       "      <td>2003</td>\n",
       "      <td>FWS</td>\n",
       "      <td>29</td>\n",
       "      <td>979</td>\n",
       "      <td>122</td>\n",
       "      <td>23546</td>\n",
       "      <td>0.0</td>\n",
       "      <td>0</td>\n",
       "    </tr>\n",
       "    <tr>\n",
       "      <th>9</th>\n",
       "      <td>2003</td>\n",
       "      <td>NPS</td>\n",
       "      <td>97</td>\n",
       "      <td>2243</td>\n",
       "      <td>34</td>\n",
       "      <td>5981</td>\n",
       "      <td>65.0</td>\n",
       "      <td>14,744</td>\n",
       "    </tr>\n",
       "  </tbody>\n",
       "</table>\n",
       "</div>"
      ],
      "text/plain": [
       "   Year Agency  Wild_Fires  Wild_Acres  Rx_Fires  Rx_Acres  WFU_Fires  \\\n",
       "0  2002    BIA         318       11014        13       272        0.0   \n",
       "1  2002    BLM         118       32767        19      1546        0.0   \n",
       "2  2002    FWS          26         956        23     24684        0.0   \n",
       "3  2002    NPS          55         923        47      6938       86.0   \n",
       "4  2002     ST        6201       95091         0         0        0.0   \n",
       "5  2002     FS        1610      365945       565     54922      195.0   \n",
       "6  2003    BIA         253        1911        14       188        2.0   \n",
       "7  2003    BLM         231       54869        33      1183        0.0   \n",
       "8  2003    FWS          29         979       122     23546        0.0   \n",
       "9  2003    NPS          97        2243        34      5981       65.0   \n",
       "\n",
       "  WFU_Acres  \n",
       "0         0  \n",
       "1         0  \n",
       "2         0  \n",
       "3     4,137  \n",
       "4         0  \n",
       "5         1  \n",
       "6         0  \n",
       "7         0  \n",
       "8         0  \n",
       "9    14,744  "
      ]
     },
     "execution_count": 48,
     "metadata": {},
     "output_type": "execute_result"
    }
   ],
   "source": [
    "fires.head(10)"
   ]
  },
  {
   "cell_type": "code",
   "execution_count": 49,
   "id": "23917b8f",
   "metadata": {},
   "outputs": [
    {
     "data": {
      "text/plain": [
       "49     2009.0\n",
       "50     2009.0\n",
       "51     2009.0\n",
       "52     2009.0\n",
       "53     2009.0\n",
       "        ...  \n",
       "119    2017.0\n",
       "120    2017.0\n",
       "121    2017.0\n",
       "122    2017.0\n",
       "123    2017.0\n",
       "Name: Year, Length: 75, dtype: float64"
      ]
     },
     "execution_count": 49,
     "metadata": {},
     "output_type": "execute_result"
    }
   ],
   "source": [
    "fires['Year'].where(fires['WFU_Fires'].isnull()).dropna()"
   ]
  },
  {
   "cell_type": "code",
   "execution_count": 50,
   "id": "0c4ccc04",
   "metadata": {},
   "outputs": [
    {
     "data": {
      "text/plain": [
       "49     2009.0\n",
       "50     2009.0\n",
       "51     2009.0\n",
       "52     2009.0\n",
       "53     2009.0\n",
       "        ...  \n",
       "119    2017.0\n",
       "120    2017.0\n",
       "121    2017.0\n",
       "122    2017.0\n",
       "123    2017.0\n",
       "Name: Year, Length: 75, dtype: float64"
      ]
     },
     "execution_count": 50,
     "metadata": {},
     "output_type": "execute_result"
    }
   ],
   "source": [
    "fires['Year'].where(fires['WFU_Acres'].isnull()).dropna()"
   ]
  },
  {
   "cell_type": "code",
   "execution_count": 51,
   "id": "da3bd03f",
   "metadata": {},
   "outputs": [
    {
     "data": {
      "text/plain": [
       "49     True\n",
       "50     True\n",
       "51     True\n",
       "52     True\n",
       "53     True\n",
       "       ... \n",
       "119    True\n",
       "120    True\n",
       "121    True\n",
       "122    True\n",
       "123    True\n",
       "Name: Year, Length: 75, dtype: bool"
      ]
     },
     "execution_count": 51,
     "metadata": {},
     "output_type": "execute_result"
    }
   ],
   "source": [
    "fires['Year'].where(fires['WFU_Fires'].isnull()).dropna() == fires['Year'].where(fires['WFU_Acres'].isnull()).dropna()"
   ]
  },
  {
   "cell_type": "code",
   "execution_count": 52,
   "id": "a056754a",
   "metadata": {},
   "outputs": [],
   "source": [
    "fires = fires.drop(['WFU_Fires', 'WFU_Acres'], axis=1)"
   ]
  },
  {
   "cell_type": "code",
   "execution_count": 53,
   "id": "59a18e6e",
   "metadata": {},
   "outputs": [
    {
     "data": {
      "text/html": [
       "<div>\n",
       "<style scoped>\n",
       "    .dataframe tbody tr th:only-of-type {\n",
       "        vertical-align: middle;\n",
       "    }\n",
       "\n",
       "    .dataframe tbody tr th {\n",
       "        vertical-align: top;\n",
       "    }\n",
       "\n",
       "    .dataframe thead th {\n",
       "        text-align: right;\n",
       "    }\n",
       "</style>\n",
       "<table border=\"1\" class=\"dataframe\">\n",
       "  <thead>\n",
       "    <tr style=\"text-align: right;\">\n",
       "      <th></th>\n",
       "      <th>Year</th>\n",
       "      <th>Agency</th>\n",
       "      <th>Wild_Fires</th>\n",
       "      <th>Wild_Acres</th>\n",
       "      <th>Rx_Fires</th>\n",
       "      <th>Rx_Acres</th>\n",
       "    </tr>\n",
       "  </thead>\n",
       "  <tbody>\n",
       "    <tr>\n",
       "      <th>0</th>\n",
       "      <td>2002</td>\n",
       "      <td>BIA</td>\n",
       "      <td>318</td>\n",
       "      <td>11014</td>\n",
       "      <td>13</td>\n",
       "      <td>272</td>\n",
       "    </tr>\n",
       "    <tr>\n",
       "      <th>1</th>\n",
       "      <td>2002</td>\n",
       "      <td>BLM</td>\n",
       "      <td>118</td>\n",
       "      <td>32767</td>\n",
       "      <td>19</td>\n",
       "      <td>1546</td>\n",
       "    </tr>\n",
       "    <tr>\n",
       "      <th>2</th>\n",
       "      <td>2002</td>\n",
       "      <td>FWS</td>\n",
       "      <td>26</td>\n",
       "      <td>956</td>\n",
       "      <td>23</td>\n",
       "      <td>24684</td>\n",
       "    </tr>\n",
       "    <tr>\n",
       "      <th>3</th>\n",
       "      <td>2002</td>\n",
       "      <td>NPS</td>\n",
       "      <td>55</td>\n",
       "      <td>923</td>\n",
       "      <td>47</td>\n",
       "      <td>6938</td>\n",
       "    </tr>\n",
       "    <tr>\n",
       "      <th>4</th>\n",
       "      <td>2002</td>\n",
       "      <td>ST</td>\n",
       "      <td>6201</td>\n",
       "      <td>95091</td>\n",
       "      <td>0</td>\n",
       "      <td>0</td>\n",
       "    </tr>\n",
       "    <tr>\n",
       "      <th>5</th>\n",
       "      <td>2002</td>\n",
       "      <td>FS</td>\n",
       "      <td>1610</td>\n",
       "      <td>365945</td>\n",
       "      <td>565</td>\n",
       "      <td>54922</td>\n",
       "    </tr>\n",
       "    <tr>\n",
       "      <th>6</th>\n",
       "      <td>2003</td>\n",
       "      <td>BIA</td>\n",
       "      <td>253</td>\n",
       "      <td>1911</td>\n",
       "      <td>14</td>\n",
       "      <td>188</td>\n",
       "    </tr>\n",
       "    <tr>\n",
       "      <th>7</th>\n",
       "      <td>2003</td>\n",
       "      <td>BLM</td>\n",
       "      <td>231</td>\n",
       "      <td>54869</td>\n",
       "      <td>33</td>\n",
       "      <td>1183</td>\n",
       "    </tr>\n",
       "    <tr>\n",
       "      <th>8</th>\n",
       "      <td>2003</td>\n",
       "      <td>FWS</td>\n",
       "      <td>29</td>\n",
       "      <td>979</td>\n",
       "      <td>122</td>\n",
       "      <td>23546</td>\n",
       "    </tr>\n",
       "    <tr>\n",
       "      <th>9</th>\n",
       "      <td>2003</td>\n",
       "      <td>NPS</td>\n",
       "      <td>97</td>\n",
       "      <td>2243</td>\n",
       "      <td>34</td>\n",
       "      <td>5981</td>\n",
       "    </tr>\n",
       "  </tbody>\n",
       "</table>\n",
       "</div>"
      ],
      "text/plain": [
       "   Year Agency  Wild_Fires  Wild_Acres  Rx_Fires  Rx_Acres\n",
       "0  2002    BIA         318       11014        13       272\n",
       "1  2002    BLM         118       32767        19      1546\n",
       "2  2002    FWS          26         956        23     24684\n",
       "3  2002    NPS          55         923        47      6938\n",
       "4  2002     ST        6201       95091         0         0\n",
       "5  2002     FS        1610      365945       565     54922\n",
       "6  2003    BIA         253        1911        14       188\n",
       "7  2003    BLM         231       54869        33      1183\n",
       "8  2003    FWS          29         979       122     23546\n",
       "9  2003    NPS          97        2243        34      5981"
      ]
     },
     "execution_count": 53,
     "metadata": {},
     "output_type": "execute_result"
    }
   ],
   "source": [
    "fires.head(10)"
   ]
  },
  {
   "cell_type": "code",
   "execution_count": 56,
   "id": "aa71fb6a",
   "metadata": {},
   "outputs": [
    {
     "name": "stdout",
     "output_type": "stream",
     "text": [
      "<class 'pandas.core.frame.DataFrame'>\n",
      "RangeIndex: 124 entries, 0 to 123\n",
      "Data columns (total 6 columns):\n",
      " #   Column      Non-Null Count  Dtype \n",
      "---  ------      --------------  ----- \n",
      " 0   Year        124 non-null    int32 \n",
      " 1   Agency      124 non-null    object\n",
      " 2   Wild_Fires  124 non-null    int32 \n",
      " 3   Wild_Acres  124 non-null    int32 \n",
      " 4   Rx_Fires    124 non-null    int64 \n",
      " 5   Rx_Acres    124 non-null    int64 \n",
      "dtypes: int32(3), int64(2), object(1)\n",
      "memory usage: 4.5+ KB\n"
     ]
    }
   ],
   "source": [
    "fires.info()"
   ]
  },
  {
   "cell_type": "code",
   "execution_count": 54,
   "id": "6ac5a0af",
   "metadata": {},
   "outputs": [],
   "source": [
    "fires['Wild_Fires'] = fires['Wild_Fires'].astype(int)"
   ]
  },
  {
   "cell_type": "code",
   "execution_count": 55,
   "id": "4ba03662",
   "metadata": {},
   "outputs": [],
   "source": [
    "fires['Wild_Acres'] = fires['Wild_Acres'].astype(int)"
   ]
  },
  {
   "cell_type": "code",
   "execution_count": 57,
   "id": "10ea1759",
   "metadata": {},
   "outputs": [],
   "source": [
    "fires['Rx_Fires'] = fires['Rx_Fires'].astype(int)"
   ]
  },
  {
   "cell_type": "code",
   "execution_count": 58,
   "id": "8e99e16c",
   "metadata": {},
   "outputs": [],
   "source": [
    "fires['Rx_Acres'] = fires['Rx_Acres'].astype(int)"
   ]
  },
  {
   "cell_type": "code",
   "execution_count": 59,
   "id": "6df494a2",
   "metadata": {},
   "outputs": [
    {
     "name": "stdout",
     "output_type": "stream",
     "text": [
      "<class 'pandas.core.frame.DataFrame'>\n",
      "RangeIndex: 124 entries, 0 to 123\n",
      "Data columns (total 6 columns):\n",
      " #   Column      Non-Null Count  Dtype \n",
      "---  ------      --------------  ----- \n",
      " 0   Year        124 non-null    int32 \n",
      " 1   Agency      124 non-null    object\n",
      " 2   Wild_Fires  124 non-null    int32 \n",
      " 3   Wild_Acres  124 non-null    int32 \n",
      " 4   Rx_Fires    124 non-null    int32 \n",
      " 5   Rx_Acres    124 non-null    int32 \n",
      "dtypes: int32(5), object(1)\n",
      "memory usage: 3.5+ KB\n"
     ]
    }
   ],
   "source": [
    "fires.info()"
   ]
  }
 ],
 "metadata": {
  "kernelspec": {
   "display_name": "Python 3 (ipykernel)",
   "language": "python",
   "name": "python3"
  },
  "language_info": {
   "codemirror_mode": {
    "name": "ipython",
    "version": 3
   },
   "file_extension": ".py",
   "mimetype": "text/x-python",
   "name": "python",
   "nbconvert_exporter": "python",
   "pygments_lexer": "ipython3",
   "version": "3.9.13"
  }
 },
 "nbformat": 4,
 "nbformat_minor": 5
}
